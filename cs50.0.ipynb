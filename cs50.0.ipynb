{
 "cells": [
  {
   "cell_type": "code",
   "execution_count": null,
   "metadata": {},
   "outputs": [],
   "source": [
    "'''cs50 lecture 0: scratch'''"
   ]
  },
  {
   "cell_type": "code",
   "execution_count": null,
   "metadata": {},
   "outputs": [],
   "source": [
    "\"\"\"Binary\n",
    "computer uses bi (2) digits to translate digits 0, 1 (bit)\n",
    "study of information, application of ideas into solving real life problens\n",
    "input --> black box --> output\n",
    "def-unary system: 1,2,3,4,5, use symbol to solve problems\n",
    "base-2 : binary, base 10 decimal\n",
    "decimal system\n",
    "computers use two signals, on and off, the bits are power based by 2\n",
    "2^0 = 1\n",
    "2^1 = 2 + 1\n",
    "2^2 = 4 + 2 + 1\n",
    "def bytes- unit measurement= 8 bits (digits) = 255 \n",
    "gigabytes (gb) \n",
    "\"\"\""
   ]
  },
  {
   "cell_type": "code",
   "execution_count": null,
   "metadata": {},
   "outputs": [],
   "source": [
    "'''Representation\n",
    "how does a computer represent the letter \"A\"\n",
    "if A is 65, B is 66, ... etc\n",
    "- ASCII : the mapping between numbers and letters, start by capital letter then lower case\n",
    " therefore A would be 01000001\n",
    " 72 73 33 = hi!\n",
    "represent number 1 in ascii : stored in computer as 49\n",
    "foreign languages and accent symbols, emojis are not supported (solution = unicode)\n",
    "Ascii can represent total 256 characters\n",
    "add another digit of byte \n",
    "unicode- capture digitally all forms of humna language using 0 and 1s\n",
    "32 bytes = 4 billion digits\n",
    "\n",
    "'''\n"
   ]
  },
  {
   "cell_type": "code",
   "execution_count": null,
   "metadata": {},
   "outputs": [],
   "source": [
    "''' Algorithms & abstraction: simplification\n",
    "step by step to solve problems\n",
    "psuedocode = english-like syntax, not real code \n",
    "functions: arguement, return values, variables\n",
    "\n",
    "'''"
   ]
  },
  {
   "cell_type": "code",
   "execution_count": null,
   "metadata": {},
   "outputs": [],
   "source": [
    "''' Scratch\n",
    "-graphical programmable language \n",
    "-left side are motion blocks                    \n",
    "-middle side are code areas, drop motion blocks \n",
    "-right down side, default cat's costume \n",
    "-right top, scratch the cat being displayed \n",
    "two dimensional (0,0)space height:360 length:480\n",
    "'''"
   ]
  },
  {
   "cell_type": "code",
   "execution_count": 1,
   "metadata": {},
   "outputs": [
    {
     "name": "stdout",
     "output_type": "stream",
     "text": [
      "Hello world\n"
     ]
    }
   ],
   "source": [
    "#hello world\n",
    "print(\"Hello world\")\n",
    "#in scratch: when *flag*(start) clicked \n",
    "# function   say \"hello!\" (can be override with other text)\n",
    "#\"hello\" is the input\n",
    "\n",
    "#input --> algorithum --> output\n",
    "#arguement --> function --> side effect\n",
    "#hello world --> say ---> hello, world\n",
    "#when *flag* clicked --> ask \"whats your name\" and wait --> say \"hello,\" for 2 seconds  --> say *anwser* for 2 seconds\n",
    "# join apple, + banana (composing function) joint block\n"
   ]
  },
  {
   "cell_type": "code",
   "execution_count": null,
   "metadata": {},
   "outputs": [],
   "source": [
    "#text to speech\n",
    "# when *flag* clicked --> play sound meow until done * 3\n",
    "# add wait 1 seconds in between blocks \n"
   ]
  },
  {
   "cell_type": "code",
   "execution_count": null,
   "metadata": {},
   "outputs": [],
   "source": [
    "#loops \n",
    "\"\"\"\n",
    "repeat 3 \n",
    "    when flag clicked \n",
    "    play sound meow until done \n",
    "    wait 1 second \n",
    "\"\"\"\n"
   ]
  },
  {
   "cell_type": "code",
   "execution_count": null,
   "metadata": {},
   "outputs": [],
   "source": [
    "#custom block\n",
    "\"\"\" make a block: meow \n",
    "a function + abstraction\n",
    "meow n times \n",
    "        \n",
    "    \"\"\""
   ]
  }
 ],
 "metadata": {
  "kernelspec": {
   "display_name": "Python 3",
   "language": "python",
   "name": "python3"
  },
  "language_info": {
   "codemirror_mode": {
    "name": "ipython",
    "version": 3
   },
   "file_extension": ".py",
   "mimetype": "text/x-python",
   "name": "python",
   "nbconvert_exporter": "python",
   "pygments_lexer": "ipython3",
   "version": "3.10.11"
  },
  "orig_nbformat": 4
 },
 "nbformat": 4,
 "nbformat_minor": 2
}
