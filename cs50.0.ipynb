{
 "cells": [
  {
   "cell_type": "code",
   "execution_count": null,
   "metadata": {},
   "outputs": [],
   "source": [
    "'''cs50 lecture 0: scratch'''"
   ]
  },
  {
   "cell_type": "code",
   "execution_count": null,
   "metadata": {},
   "outputs": [],
   "source": [
    "\"\"\"Binary\n",
    "computer uses bi (2) digits to translate digits 0, 1 (bit)\n",
    "study of information, application of ideas into solving real life problens\n",
    "input --> black box --> output\n",
    "def-unary system: 1,2,3,4,5, use symbol to solve problems\n",
    "base-2 : binary, base 10 decimal\n",
    "decimal system\n",
    "computers use two signals, on and off, the bits are power based by 2\n",
    "2^0 = 1\n",
    "2^1 = 2 + 1\n",
    "2^2 = 4 + 2 + 1\n",
    "def bytes- unit measurement= 8 bits (digits) = 255 \n",
    "gigabytes (gb) \n",
    "\"\"\""
   ]
  },
  {
   "cell_type": "code",
   "execution_count": null,
   "metadata": {},
   "outputs": [],
   "source": [
    "'''Representation\n",
    "how does a computer represent the letter \"A\"\n",
    "if A is 65, B is 66, ... etc\n",
    "- ASCII : the mapping between numbers and letters, start by capital letter then lower case\n",
    " therefore A would be 01000001\n",
    " 72 73 33 = hi!\n",
    "represent number 1 in ascii : stored in computer as 49\n",
    "foreign languages and accent symbols, emojis are not supported (solution = unicode)\n",
    "Ascii can represent total 256 characters\n",
    "add another digit of byte \n",
    "unicode- capture digitally all forms of humna language using 0 and 1s\n",
    "32 bytes = 4 billion digits\n",
    "\n",
    "'''\n"
   ]
  },
  {
   "cell_type": "code",
   "execution_count": null,
   "metadata": {},
   "outputs": [],
   "source": [
    "''' Algorithms & abstraction: simplification\n",
    "step by step to solve problems\n",
    "\n",
    "'''"
   ]
  }
 ],
 "metadata": {
  "language_info": {
   "name": "python"
  },
  "orig_nbformat": 4
 },
 "nbformat": 4,
 "nbformat_minor": 2
}
